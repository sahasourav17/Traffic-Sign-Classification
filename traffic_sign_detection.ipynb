{
  "nbformat": 4,
  "nbformat_minor": 0,
  "metadata": {
    "colab": {
      "name": "traffic_sign_detection.ipynb",
      "provenance": []
    },
    "kernelspec": {
      "name": "python3",
      "display_name": "Python 3"
    },
    "language_info": {
      "name": "python"
    }
  },
  "cells": [
    {
      "cell_type": "code",
      "source": [
        "from google.colab import drive\n",
        "drive.mount('/content/drive')"
      ],
      "metadata": {
        "colab": {
          "base_uri": "https://localhost:8080/"
        },
        "id": "nD9-fqm862kq",
        "outputId": "b424f81b-6049-44b2-88db-05bb6c17b817"
      },
      "execution_count": 1,
      "outputs": [
        {
          "output_type": "stream",
          "name": "stdout",
          "text": [
            "Drive already mounted at /content/drive; to attempt to forcibly remount, call drive.mount(\"/content/drive\", force_remount=True).\n"
          ]
        }
      ]
    },
    {
      "cell_type": "code",
      "source": [
        "import numpy as np\n",
        "import pandas as pd\n",
        "import matplotlib.pyplot as plt\n",
        "import tensorflow as tf\n",
        "from sklearn.model_selection import train_test_split\n",
        "from tensorflow.keras.utils import to_categorical\n",
        "from keras.models import Sequential\n",
        "from keras.layers import Conv2D,MaxPool2D,Dense,Flatten,Dropout\n",
        "from PIL import Image\n",
        "import os"
      ],
      "metadata": {
        "id": "4hJmbXNU7N3k"
      },
      "execution_count": 2,
      "outputs": []
    },
    {
      "cell_type": "code",
      "source": [
        "data = []\n",
        "labels =[]\n",
        "classes = 43\n",
        "cur_path = '/content/drive/MyDrive/traffic/'"
      ],
      "metadata": {
        "id": "Fjop_gFF8TW0"
      },
      "execution_count": 3,
      "outputs": []
    },
    {
      "cell_type": "code",
      "source": [
        "cur_path"
      ],
      "metadata": {
        "colab": {
          "base_uri": "https://localhost:8080/",
          "height": 35
        },
        "id": "o0G0E63D_18-",
        "outputId": "2ba26b56-46b3-4797-99fb-0593a87055d1"
      },
      "execution_count": 4,
      "outputs": [
        {
          "output_type": "execute_result",
          "data": {
            "application/vnd.google.colaboratory.intrinsic+json": {
              "type": "string"
            },
            "text/plain": [
              "'/content/drive/MyDrive/traffic/'"
            ]
          },
          "metadata": {},
          "execution_count": 4
        }
      ]
    },
    {
      "cell_type": "code",
      "source": [
        "for i in range(classes):\n",
        "  path = os.path.join(cur_path,'Train',str(i))\n",
        "  images = os.listdir(path)\n",
        "\n",
        "  for a in images:\n",
        "    try:\n",
        "      image = Image.open(path+'//'+a)\n",
        "      image = image.resize((30,30))\n",
        "      image = np.array(image)\n",
        "      data.append(image)\n",
        "      labels.append(i)\n",
        "    except:\n",
        "      print('Error!!')\n",
        "      "
      ],
      "metadata": {
        "id": "OJwSvrBX9PxC"
      },
      "execution_count": 5,
      "outputs": []
    },
    {
      "cell_type": "code",
      "source": [
        "data = np.array(data)\n",
        "labels = np.array(labels)"
      ],
      "metadata": {
        "id": "nXaVxxszAAaY"
      },
      "execution_count": 6,
      "outputs": []
    },
    {
      "cell_type": "code",
      "source": [
        "data"
      ],
      "metadata": {
        "id": "KQkhhLEVD5ry",
        "colab": {
          "base_uri": "https://localhost:8080/"
        },
        "outputId": "77c7ac01-301a-4ea4-feaf-25b2fa963222"
      },
      "execution_count": 7,
      "outputs": [
        {
          "output_type": "execute_result",
          "data": {
            "text/plain": [
              "array([[[[ 71,  71,  65],\n",
              "         [ 68,  68,  62],\n",
              "         [ 70,  69,  64],\n",
              "         ...,\n",
              "         [ 66,  65,  62],\n",
              "         [ 64,  63,  59],\n",
              "         [ 66,  64,  60]],\n",
              "\n",
              "        [[ 71,  71,  66],\n",
              "         [ 70,  70,  65],\n",
              "         [ 69,  69,  64],\n",
              "         ...,\n",
              "         [ 65,  65,  62],\n",
              "         [ 65,  64,  58],\n",
              "         [ 66,  64,  58]],\n",
              "\n",
              "        [[ 70,  69,  65],\n",
              "         [ 68,  68,  63],\n",
              "         [ 67,  68,  63],\n",
              "         ...,\n",
              "         [ 73,  72,  66],\n",
              "         [ 65,  64,  59],\n",
              "         [ 68,  65,  60]],\n",
              "\n",
              "        ...,\n",
              "\n",
              "        [[ 59,  58,  58],\n",
              "         [ 58,  58,  56],\n",
              "         [ 58,  59,  57],\n",
              "         ...,\n",
              "         [ 55,  56,  56],\n",
              "         [ 53,  54,  54],\n",
              "         [ 55,  56,  55]],\n",
              "\n",
              "        [[ 59,  59,  58],\n",
              "         [ 57,  57,  54],\n",
              "         [ 58,  57,  55],\n",
              "         ...,\n",
              "         [ 56,  56,  55],\n",
              "         [ 55,  55,  54],\n",
              "         [ 57,  57,  55]],\n",
              "\n",
              "        [[ 56,  57,  56],\n",
              "         [ 57,  56,  54],\n",
              "         [ 59,  56,  54],\n",
              "         ...,\n",
              "         [ 56,  55,  54],\n",
              "         [ 54,  54,  52],\n",
              "         [ 56,  56,  54]]],\n",
              "\n",
              "\n",
              "       [[[153, 149, 132],\n",
              "         [210, 223, 200],\n",
              "         [104, 139, 155],\n",
              "         ...,\n",
              "         [255, 255, 255],\n",
              "         [255, 255, 255],\n",
              "         [255, 255, 255]],\n",
              "\n",
              "        [[128, 142, 140],\n",
              "         [100, 122, 120],\n",
              "         [ 53,  63,  84],\n",
              "         ...,\n",
              "         [255, 255, 255],\n",
              "         [255, 255, 255],\n",
              "         [255, 255, 255]],\n",
              "\n",
              "        [[101,  90,  76],\n",
              "         [ 89,  78,  66],\n",
              "         [ 80,  65,  43],\n",
              "         ...,\n",
              "         [255, 255, 255],\n",
              "         [255, 255, 255],\n",
              "         [255, 255, 255]],\n",
              "\n",
              "        ...,\n",
              "\n",
              "        [[241, 243, 250],\n",
              "         [239, 243, 250],\n",
              "         [238, 240, 250],\n",
              "         ...,\n",
              "         [102, 118, 127],\n",
              "         [ 97,  95,  95],\n",
              "         [104, 103, 104]],\n",
              "\n",
              "        [[236, 241, 249],\n",
              "         [233, 240, 249],\n",
              "         [224, 229, 237],\n",
              "         ...,\n",
              "         [106, 126, 149],\n",
              "         [117, 115, 119],\n",
              "         [122, 123, 129]],\n",
              "\n",
              "        [[223, 226, 242],\n",
              "         [213, 218, 234],\n",
              "         [201, 205, 214],\n",
              "         ...,\n",
              "         [111, 129, 146],\n",
              "         [124, 123, 126],\n",
              "         [131, 133, 137]]],\n",
              "\n",
              "\n",
              "       [[[162,  32,  25],\n",
              "         [160,  34,  28],\n",
              "         [165,  34,  27],\n",
              "         ...,\n",
              "         [143,  40,  28],\n",
              "         [136,  49,  37],\n",
              "         [140,  46,  33]],\n",
              "\n",
              "        [[163,  29,  21],\n",
              "         [163,  29,  20],\n",
              "         [163,  30,  21],\n",
              "         ...,\n",
              "         [122,  98,  95],\n",
              "         [111,  96,  96],\n",
              "         [109,  95,  93]],\n",
              "\n",
              "        [[169,  72,  62],\n",
              "         [166,  76,  65],\n",
              "         [167,  81,  70],\n",
              "         ...,\n",
              "         [ 29,  35,  36],\n",
              "         [ 30,  36,  34],\n",
              "         [ 27,  31,  28]],\n",
              "\n",
              "        ...,\n",
              "\n",
              "        [[ 33,  30,  29],\n",
              "         [ 37,  34,  31],\n",
              "         [ 38,  37,  31],\n",
              "         ...,\n",
              "         [ 41,  39,  25],\n",
              "         [ 32,  32,  23],\n",
              "         [ 35,  33,  25]],\n",
              "\n",
              "        [[ 36,  34,  31],\n",
              "         [ 39,  39,  32],\n",
              "         [ 46,  49,  37],\n",
              "         ...,\n",
              "         [ 40,  39,  24],\n",
              "         [ 32,  32,  29],\n",
              "         [ 42,  38,  32]],\n",
              "\n",
              "        [[ 30,  31,  28],\n",
              "         [ 33,  34,  30],\n",
              "         [ 39,  40,  33],\n",
              "         ...,\n",
              "         [ 39,  40,  31],\n",
              "         [ 38,  37,  35],\n",
              "         [ 39,  36,  29]]],\n",
              "\n",
              "\n",
              "       ...,\n",
              "\n",
              "\n",
              "       [[[ 13,  13,  17],\n",
              "         [ 12,  12,  20],\n",
              "         [ 15,  15,  20],\n",
              "         ...,\n",
              "         [ 15,  14,  18],\n",
              "         [ 16,  13,  15],\n",
              "         [ 12,  10,  13]],\n",
              "\n",
              "        [[ 13,  13,  19],\n",
              "         [ 14,  14,  22],\n",
              "         [ 12,  12,  21],\n",
              "         ...,\n",
              "         [ 15,  13,  16],\n",
              "         [ 15,  13,  13],\n",
              "         [ 11,  10,  12]],\n",
              "\n",
              "        [[ 15,  15,  19],\n",
              "         [ 14,  14,  19],\n",
              "         [ 12,  12,  23],\n",
              "         ...,\n",
              "         [ 14,  13,  15],\n",
              "         [ 13,  12,  14],\n",
              "         [ 12,  12,  13]],\n",
              "\n",
              "        ...,\n",
              "\n",
              "        [[ 13,  11,  15],\n",
              "         [ 10,  10,  14],\n",
              "         [ 11,  13,  20],\n",
              "         ...,\n",
              "         [ 16,  20,  26],\n",
              "         [ 17,  18,  21],\n",
              "         [ 22,  20,  23]],\n",
              "\n",
              "        [[ 12,  11,  16],\n",
              "         [ 12,  12,  17],\n",
              "         [ 12,  13,  18],\n",
              "         ...,\n",
              "         [ 22,  19,  20],\n",
              "         [ 14,  14,  17],\n",
              "         [ 16,  17,  26]],\n",
              "\n",
              "        [[ 15,  15,  23],\n",
              "         [ 21,  19,  30],\n",
              "         [ 17,  16,  24],\n",
              "         ...,\n",
              "         [ 19,  17,  17],\n",
              "         [ 14,  15,  23],\n",
              "         [ 19,  21,  38]]],\n",
              "\n",
              "\n",
              "       [[[ 15,  14,  15],\n",
              "         [ 15,  14,  15],\n",
              "         [ 16,  15,  16],\n",
              "         ...,\n",
              "         [ 15,  14,  16],\n",
              "         [ 15,  14,  16],\n",
              "         [ 15,  14,  15]],\n",
              "\n",
              "        [[ 16,  15,  16],\n",
              "         [ 15,  14,  15],\n",
              "         [ 15,  14,  16],\n",
              "         ...,\n",
              "         [ 12,  12,  15],\n",
              "         [ 13,  13,  15],\n",
              "         [ 13,  13,  15]],\n",
              "\n",
              "        [[ 15,  15,  16],\n",
              "         [ 14,  13,  15],\n",
              "         [ 14,  14,  17],\n",
              "         ...,\n",
              "         [ 14,  13,  16],\n",
              "         [ 14,  14,  16],\n",
              "         [ 13,  13,  16]],\n",
              "\n",
              "        ...,\n",
              "\n",
              "        [[ 15,  12,  14],\n",
              "         [ 14,  13,  15],\n",
              "         [ 14,  14,  16],\n",
              "         ...,\n",
              "         [ 14,  13,  13],\n",
              "         [ 15,  13,  15],\n",
              "         [ 13,  12,  16]],\n",
              "\n",
              "        [[ 14,  12,  14],\n",
              "         [ 13,  12,  14],\n",
              "         [ 14,  13,  17],\n",
              "         ...,\n",
              "         [ 13,  11,  14],\n",
              "         [ 14,  12,  15],\n",
              "         [ 13,  12,  14]],\n",
              "\n",
              "        [[ 13,  12,  14],\n",
              "         [ 13,  12,  14],\n",
              "         [ 15,  14,  16],\n",
              "         ...,\n",
              "         [ 13,  12,  14],\n",
              "         [ 13,  11,  13],\n",
              "         [ 12,  11,  14]]],\n",
              "\n",
              "\n",
              "       [[[ 28,  25,  24],\n",
              "         [ 27,  24,  23],\n",
              "         [ 28,  24,  23],\n",
              "         ...,\n",
              "         [ 32,  29,  27],\n",
              "         [ 35,  31,  28],\n",
              "         [ 34,  29,  25]],\n",
              "\n",
              "        [[ 33,  30,  29],\n",
              "         [ 28,  24,  22],\n",
              "         [ 30,  25,  23],\n",
              "         ...,\n",
              "         [ 32,  29,  27],\n",
              "         [ 31,  27,  25],\n",
              "         [ 30,  27,  25]],\n",
              "\n",
              "        [[ 31,  27,  26],\n",
              "         [ 30,  25,  23],\n",
              "         [ 31,  25,  23],\n",
              "         ...,\n",
              "         [ 27,  24,  22],\n",
              "         [ 26,  24,  22],\n",
              "         [ 27,  25,  23]],\n",
              "\n",
              "        ...,\n",
              "\n",
              "        [[ 29,  26,  22],\n",
              "         [ 31,  26,  23],\n",
              "         [ 36,  31,  26],\n",
              "         ...,\n",
              "         [ 24,  23,  22],\n",
              "         [ 24,  23,  20],\n",
              "         [ 23,  22,  20]],\n",
              "\n",
              "        [[ 30,  27,  24],\n",
              "         [ 33,  28,  25],\n",
              "         [ 35,  28,  24],\n",
              "         ...,\n",
              "         [ 24,  23,  21],\n",
              "         [ 26,  25,  23],\n",
              "         [ 25,  24,  22]],\n",
              "\n",
              "        [[ 30,  27,  24],\n",
              "         [ 30,  27,  24],\n",
              "         [ 31,  28,  24],\n",
              "         ...,\n",
              "         [ 24,  23,  20],\n",
              "         [ 25,  24,  22],\n",
              "         [ 27,  26,  24]]]], dtype=uint8)"
            ]
          },
          "metadata": {},
          "execution_count": 7
        }
      ]
    },
    {
      "cell_type": "code",
      "source": [
        "data.shape,labels.shape"
      ],
      "metadata": {
        "id": "VjJf6yBJA9Dm",
        "colab": {
          "base_uri": "https://localhost:8080/"
        },
        "outputId": "7ddb2c3b-6b8b-44f7-b8d9-3b09b7ffedff"
      },
      "execution_count": 8,
      "outputs": [
        {
          "output_type": "execute_result",
          "data": {
            "text/plain": [
              "((39209, 30, 30, 3), (39209,))"
            ]
          },
          "metadata": {},
          "execution_count": 8
        }
      ]
    },
    {
      "cell_type": "code",
      "source": [
        "X_train,X_test,y_train,y_test = train_test_split(data,labels,test_size = 0.2,random_state = 93)\n"
      ],
      "metadata": {
        "id": "jkOUMg61EBTc"
      },
      "execution_count": 9,
      "outputs": []
    },
    {
      "cell_type": "code",
      "source": [
        "X_train.shape,X_test.shape,y_train.shape,y_test.shape"
      ],
      "metadata": {
        "id": "qKyn70SVEQSe",
        "colab": {
          "base_uri": "https://localhost:8080/"
        },
        "outputId": "2c55a61e-f0d7-4048-b093-4f531e14563e"
      },
      "execution_count": 10,
      "outputs": [
        {
          "output_type": "execute_result",
          "data": {
            "text/plain": [
              "((31367, 30, 30, 3), (7842, 30, 30, 3), (31367,), (7842,))"
            ]
          },
          "metadata": {},
          "execution_count": 10
        }
      ]
    },
    {
      "cell_type": "code",
      "source": [
        "y_train = to_categorical(y_train,43)\n",
        "y_test = to_categorical(y_test,43)"
      ],
      "metadata": {
        "id": "KjfwTsDjHWUB"
      },
      "execution_count": 11,
      "outputs": []
    },
    {
      "cell_type": "code",
      "source": [
        "model = Sequential()\n",
        "model.add(Conv2D(filters=32, kernel_size=(5,5), activation='relu', input_shape=X_train.shape[1:]))\n",
        "model.add(Conv2D(filters=32, kernel_size=(5,5), activation='relu'))\n",
        "model.add(MaxPool2D(pool_size=(2, 2)))\n",
        "model.add(Dropout(rate=0.25))\n",
        "model.add(Conv2D(filters=64, kernel_size=(3, 3), activation='relu'))\n",
        "model.add(Conv2D(filters=64, kernel_size=(3, 3), activation='relu'))\n",
        "model.add(MaxPool2D(pool_size=(2, 2)))\n",
        "model.add(Dropout(rate=0.25))\n",
        "model.add(Flatten())\n",
        "model.add(Dense(256, activation='relu'))\n",
        "model.add(Dropout(rate=0.5))\n",
        "model.add(Dense(43, activation='softmax'))"
      ],
      "metadata": {
        "id": "xgLWTBmAEYKb"
      },
      "execution_count": 12,
      "outputs": []
    },
    {
      "cell_type": "code",
      "source": [
        "model.compile(loss='categorical_crossentropy',optimizer='adam',metrics = ['acc'])"
      ],
      "metadata": {
        "id": "YWs6l5vWFoyM"
      },
      "execution_count": 13,
      "outputs": []
    },
    {
      "cell_type": "code",
      "source": [
        "model.summary()"
      ],
      "metadata": {
        "id": "IIkIUrg6F2jD",
        "colab": {
          "base_uri": "https://localhost:8080/"
        },
        "outputId": "28a938e3-8d23-4fdc-dccb-21d9ccbcced3"
      },
      "execution_count": 14,
      "outputs": [
        {
          "output_type": "stream",
          "name": "stdout",
          "text": [
            "Model: \"sequential\"\n",
            "_________________________________________________________________\n",
            " Layer (type)                Output Shape              Param #   \n",
            "=================================================================\n",
            " conv2d (Conv2D)             (None, 26, 26, 32)        2432      \n",
            "                                                                 \n",
            " conv2d_1 (Conv2D)           (None, 22, 22, 32)        25632     \n",
            "                                                                 \n",
            " max_pooling2d (MaxPooling2D  (None, 11, 11, 32)       0         \n",
            " )                                                               \n",
            "                                                                 \n",
            " dropout (Dropout)           (None, 11, 11, 32)        0         \n",
            "                                                                 \n",
            " conv2d_2 (Conv2D)           (None, 9, 9, 64)          18496     \n",
            "                                                                 \n",
            " conv2d_3 (Conv2D)           (None, 7, 7, 64)          36928     \n",
            "                                                                 \n",
            " max_pooling2d_1 (MaxPooling  (None, 3, 3, 64)         0         \n",
            " 2D)                                                             \n",
            "                                                                 \n",
            " dropout_1 (Dropout)         (None, 3, 3, 64)          0         \n",
            "                                                                 \n",
            " flatten (Flatten)           (None, 576)               0         \n",
            "                                                                 \n",
            " dense (Dense)               (None, 256)               147712    \n",
            "                                                                 \n",
            " dropout_2 (Dropout)         (None, 256)               0         \n",
            "                                                                 \n",
            " dense_1 (Dense)             (None, 43)                11051     \n",
            "                                                                 \n",
            "=================================================================\n",
            "Total params: 242,251\n",
            "Trainable params: 242,251\n",
            "Non-trainable params: 0\n",
            "_________________________________________________________________\n"
          ]
        }
      ]
    },
    {
      "cell_type": "code",
      "source": [
        "history = model.fit(X_train,y_train,batch_size=32,epochs= 15,validation_data=(X_test,y_test))"
      ],
      "metadata": {
        "id": "vWOBUyMfF5vj",
        "colab": {
          "base_uri": "https://localhost:8080/"
        },
        "outputId": "c9c1591f-35d1-4dcf-e109-1a8a128d2058"
      },
      "execution_count": 15,
      "outputs": [
        {
          "output_type": "stream",
          "name": "stdout",
          "text": [
            "Epoch 1/15\n",
            "981/981 [==============================] - 141s 142ms/step - loss: 1.8605 - acc: 0.5375 - val_loss: 0.3612 - val_acc: 0.9148\n",
            "Epoch 2/15\n",
            "981/981 [==============================] - 139s 142ms/step - loss: 0.5706 - acc: 0.8355 - val_loss: 0.1600 - val_acc: 0.9568\n",
            "Epoch 3/15\n",
            "981/981 [==============================] - 143s 146ms/step - loss: 0.3729 - acc: 0.8913 - val_loss: 0.1124 - val_acc: 0.9705\n",
            "Epoch 4/15\n",
            "981/981 [==============================] - 142s 145ms/step - loss: 0.2895 - acc: 0.9184 - val_loss: 0.1132 - val_acc: 0.9649\n",
            "Epoch 5/15\n",
            "981/981 [==============================] - 140s 142ms/step - loss: 0.2635 - acc: 0.9257 - val_loss: 0.0887 - val_acc: 0.9736\n",
            "Epoch 6/15\n",
            "981/981 [==============================] - 140s 143ms/step - loss: 0.2511 - acc: 0.9312 - val_loss: 0.0653 - val_acc: 0.9809\n",
            "Epoch 7/15\n",
            "981/981 [==============================] - 139s 142ms/step - loss: 0.2307 - acc: 0.9373 - val_loss: 0.0462 - val_acc: 0.9866\n",
            "Epoch 8/15\n",
            "981/981 [==============================] - 142s 144ms/step - loss: 0.2307 - acc: 0.9383 - val_loss: 0.0627 - val_acc: 0.9824\n",
            "Epoch 9/15\n",
            "981/981 [==============================] - 140s 142ms/step - loss: 0.2097 - acc: 0.9448 - val_loss: 0.0895 - val_acc: 0.9745\n",
            "Epoch 10/15\n",
            "981/981 [==============================] - 142s 145ms/step - loss: 0.2028 - acc: 0.9478 - val_loss: 0.0398 - val_acc: 0.9889\n",
            "Epoch 11/15\n",
            "981/981 [==============================] - 144s 147ms/step - loss: 0.1880 - acc: 0.9516 - val_loss: 0.0619 - val_acc: 0.9815\n",
            "Epoch 12/15\n",
            "981/981 [==============================] - 147s 150ms/step - loss: 0.2052 - acc: 0.9474 - val_loss: 0.0491 - val_acc: 0.9848\n",
            "Epoch 13/15\n",
            "981/981 [==============================] - 155s 158ms/step - loss: 0.2037 - acc: 0.9504 - val_loss: 0.0674 - val_acc: 0.9813\n",
            "Epoch 14/15\n",
            "981/981 [==============================] - 151s 154ms/step - loss: 0.1846 - acc: 0.9555 - val_loss: 0.0453 - val_acc: 0.9889\n",
            "Epoch 15/15\n",
            "981/981 [==============================] - 154s 157ms/step - loss: 0.1943 - acc: 0.9526 - val_loss: 0.0489 - val_acc: 0.9874\n"
          ]
        }
      ]
    },
    {
      "cell_type": "code",
      "source": [
        "from sklearn.metrics import accuracy_score,confusion_matrix\n",
        "y_test = pd.read_csv('/content/drive/MyDrive/traffic/Test.csv')\n",
        "labels = y_test[\"ClassId\"].values\n",
        "imgs = y_test[\"Path\"].values\n",
        "\n",
        "data=[]\n",
        "for img in imgs:\n",
        "    image = Image.open(cur_path+img)\n",
        "    image = image.resize((30,30))\n",
        "    data.append(np.array(image))\n",
        "X_test=np.array(data)\n",
        "pred = np.argmax(model.predict(X_test), axis=-1)\n",
        "print(accuracy_score(labels, pred))"
      ],
      "metadata": {
        "id": "_mKyDyZrGVwi",
        "colab": {
          "base_uri": "https://localhost:8080/"
        },
        "outputId": "d2b1fa9e-2615-4b29-fb38-fd1c95c7b3fe"
      },
      "execution_count": 23,
      "outputs": [
        {
          "output_type": "stream",
          "name": "stdout",
          "text": [
            "0.9549485352335708\n"
          ]
        }
      ]
    },
    {
      "cell_type": "code",
      "source": [
        "model.save('TrafficSignDetection.h5')"
      ],
      "metadata": {
        "id": "Utr2XJ9O-5up"
      },
      "execution_count": 27,
      "outputs": []
    },
    {
      "cell_type": "code",
      "source": [
        ""
      ],
      "metadata": {
        "id": "rvmqmm1LLBTD"
      },
      "execution_count": null,
      "outputs": []
    }
  ]
}